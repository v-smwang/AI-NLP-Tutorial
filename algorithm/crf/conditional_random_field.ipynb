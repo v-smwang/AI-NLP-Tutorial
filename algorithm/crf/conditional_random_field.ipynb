{
 "cells": [
  {
   "cell_type": "markdown",
   "metadata": {},
   "source": [
    "# 条件随机场\n",
    "\n",
    "    序列标注模型条件随机场，这种模型与感知机同属结构化学习大家族，但性能比感知机还要强大。"
   ]
  },
  {
   "cell_type": "markdown",
   "metadata": {},
   "source": [
    "## 一、机器学习的模型谱系\n",
    "\n",
    "<img src=\"./imgs/machine_learning_model.png\" alt=\"机器学习的模型谱系\" width=\"800\" align=\"left\"/>"
   ]
  },
  {
   "cell_type": "markdown",
   "metadata": {},
   "source": [
    "    根据建模的究竟是联合概率分布P(x,y)还是条件概率分布P(y|x)。派生出生成式模型与判别式模型。\n",
    "\n",
    "### 1、生成式模型\n",
    "\n",
    "    生成式模型：模拟数据的生成过程，两类随机变量存在因果先后关系，先有因素 y，后有结果 x，这种因果关系由联合分布模拟：\n",
    "\n",
    "$$P(x,y) = P(x|y)P(y)$$\n",
    "\n",
    "    通过联合分布 P(x,y)，生成式模型其实间接建模了 P(x)：\n",
    "    \n",
    "$$P(x) = \\sum_{y \\in Y}P(x,y)$$\n",
    "\n",
    "    这里有两个缺陷:\n",
    "\n",
    "    1、P(x) 很难准确估计，因为特征之间并非相互独立，而是存在错综复杂的依赖关系。\n",
    "    2、P(x) 在分类中也没有直接作用。\n",
    "\n",
    "    为了克服这两个问题，判别式模型出现。"
   ]
  },
  {
   "cell_type": "markdown",
   "metadata": {},
   "source": [
    "### 2、判别式模型\n",
    "\n",
    "    判别式模型直接跳过了 P(x)，直接对条件概率 P(y|x) 建模。不管 x 内部存在多复杂的关系，也不影响判别式模型对 y 的判断，于是就能够放心大胆的利用各种各样丰富的、有关联的特征。 所以我们会看到感知机分词的准确率高于隐马尔可夫模型。\n",
    "\n",
    "$\\sum_{x,y}$"
   ]
  },
  {
   "cell_type": "code",
   "execution_count": null,
   "metadata": {},
   "outputs": [],
   "source": []
  }
 ],
 "metadata": {
  "kernelspec": {
   "display_name": "Python 3",
   "language": "python",
   "name": "python3"
  },
  "language_info": {
   "codemirror_mode": {
    "name": "ipython",
    "version": 3
   },
   "file_extension": ".py",
   "mimetype": "text/x-python",
   "name": "python",
   "nbconvert_exporter": "python",
   "pygments_lexer": "ipython3",
   "version": "3.6.12"
  }
 },
 "nbformat": 4,
 "nbformat_minor": 4
}
