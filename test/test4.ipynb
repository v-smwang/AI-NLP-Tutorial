{
 "cells": [
  {
   "cell_type": "code",
   "execution_count": 1,
   "metadata": {},
   "outputs": [],
   "source": [
    "import pandas as pd"
   ]
  },
  {
   "cell_type": "code",
   "execution_count": 3,
   "metadata": {},
   "outputs": [
    {
     "name": "stdout",
     "output_type": "stream",
     "text": [
      "[['000d911d43f62e6628e097e827c73ded'\n",
      "  '[{\"company_id\": \"17156696\", \"company_full_name\": \"欧浦智网股份有限公司\", \"keyword\": \"欧浦智网股份有限公司\"}]'\n",
      "  '[{\"company_id\": \"17156696\", \"company_full_name\": \"欧浦智网股份有限公司\", \"keyword\": \"欧浦智网股份有限公司\"}, {\"company_id\": \"17156696\", \"company_full_name\": \"欧浦智网股份有限公司\", \"keyword\": \"欧浦智网\"}]'\n",
      "  'https://money.163.com/16/1220/03/C8MUQF2T002580S6.html']\n",
      " ['1411ac30f305f4d2a804b5c1fe40795d'\n",
      "  '[{\"company_id\": \"535425\", \"company_full_name\": \"联通系统集成有限公司\", \"keyword\": \"联通系统集成\"}]'\n",
      "  '[{\"company_id\": \"535425\", \"company_full_name\": \"联通系统集成有限公司\", \"keyword\": \"联通系统集成\"}, {\"company_id\": \"535425\", \"company_full_name\": \"联通系统集成有限公司\", \"keyword\": \"联通系统集成有限公司\"}]'\n",
      "  'http://www.cnii.com.cn/rmydb/202010/t20201012_222010.html']\n",
      " ['1443375eb311caa289a37fef7d129685' '[]'\n",
      "  '[{\"company_id\": \"32799063\", \"company_full_name\": \"深圳市福智软件技术有限公司\", \"keyword\": \"福智\"}]'\n",
      "  'http://www.techweb.com.cn/news/2016-06-14/2346328.shtml']\n",
      " ...\n",
      " ['ee68a900fa67fcf7329513447afcaa57'\n",
      "  '[{\"company_id\": \"203932489\", \"company_full_name\": \"绵阳尚诚置业有限公司\", \"keyword\": \"绵阳尚诚置业有限公司\"}]'\n",
      "  '[{\"company_id\": \"203932489\", \"company_full_name\": \"绵阳尚诚置业有限公司\", \"keyword\": \"尚诚置业\"}, {\"company_id\": \"203932489\", \"company_full_name\": \"绵阳尚诚置业有限公司\", \"keyword\": \"绵阳尚诚置业有限公司\"}]'\n",
      "  'https://baijiahao.baidu.com/s?id=1668937159945356662&wfr=spider&for=pc']\n",
      " ['ff5cfd7d24daca33e977a5e2cc239cd8'\n",
      "  '[{\"company_id\": \"5361346\", \"company_full_name\": \"上海百联集团股份有限公司\", \"keyword\": \"百联股份\"}, {\"company_id\": \"5432310\", \"company_full_name\": \"上海强生控股股份有限公司\", \"keyword\": \"强生控股\"}]'\n",
      "  '[{\"company_id\": \"5432310\", \"company_full_name\": \"上海强生控股股份有限公司\", \"keyword\": \"强生控股\"}, {\"company_id\": \"5361346\", \"company_full_name\": \"上海百联集团股份有限公司\", \"keyword\": \"百联股份\"}]'\n",
      "  'https://baijiahao.baidu.com/s?id=1670152637460933805&wfr=spider&for=pc']\n",
      " ['ffd18de51ccd0b33b7cdb49be22a4084'\n",
      "  '[{\"company_id\": \"13945271\", \"company_full_name\": \"广东伊之密精密机械股份有限公司\", \"keyword\": \"伊之密\"}]'\n",
      "  '[{\"company_id\": \"13945271\", \"company_full_name\": \"广东伊之密精密机械股份有限公司\", \"keyword\": \"广东伊之密精密机械股份有限公司\"}, {\"company_id\": \"13945271\", \"company_full_name\": \"广东伊之密精密机械股份有限公司\", \"keyword\": \"伊之密\"}]'\n",
      "  'https://baijiahao.baidu.com/s?id=1647182997376243854&wfr=spider&for=pc']]\n"
     ]
    }
   ],
   "source": [
    "df = pd.read_excel('/Users/a1/Downloads/ambiguous_data.xls', sheet_name='Sheet2')\n",
    "datas = df.iloc[:,:].values\n",
    "print(datas)\n",
    "# print(\"读取指定行的数据：\\n{0}\".format(data))"
   ]
  },
  {
   "cell_type": "code",
   "execution_count": 4,
   "metadata": {},
   "outputs": [
    {
     "name": "stdout",
     "output_type": "stream",
     "text": [
      "原鸽\n",
      "搞定\n",
      "竹叶青\n",
      "太阳能\n",
      "开眼\n",
      "店家\n",
      "指南针\n",
      "钾肥\n",
      "名堂\n",
      "坚果\n",
      "美美\n",
      "韭黄\n",
      "界面\n",
      "海量\n",
      "兴盛\n",
      "鱼肚白\n",
      "得到\n",
      "微博\n",
      "微博\n",
      "电驱动\n",
      "春晖\n",
      "微信\n",
      "百分点\n",
      "蒙药\n",
      "不亦乐乎\n",
      "百世\n",
      "孩子王\n",
      "柚子\n",
      "有轨电车\n",
      "飞地\n",
      "指南针\n",
      "灵犀\n",
      "土拨鼠\n",
      "千里马\n",
      "一品红\n",
      "微信\n",
      "微信\n",
      "打开\n",
      "微博\n",
      "微博\n",
      "大陆桥\n",
      "微积分\n",
      "一瞬\n",
      "瓜熟蒂落\n",
      "棱镜\n",
      "棱镜\n",
      "百事通\n",
      "风向标\n",
      "马蜂窝\n",
      "短平快\n",
      "50\n"
     ]
    }
   ],
   "source": [
    "import json\n",
    "f = open('/Users/a1/PycharmProjects/news_etl_service/news_data_extract/data/ambiguous.txt','r',encoding='utf-8')\n",
    "ambiguous_word_list = []\n",
    "for line in f.readlines():\n",
    "    ambiguous_word_list.append(line.strip())\n",
    "\n",
    "result = {}\n",
    "news_id = []\n",
    "result_src = []\n",
    "result_new = []\n",
    "ambiguous_word = []\n",
    "url = []\n",
    "count = 0\n",
    "for data in datas:\n",
    "    for res in json.loads(data[2]):\n",
    "        kwd = res['keyword']\n",
    "        if kwd in ambiguous_word_list:\n",
    "            news_id.append(data[0])\n",
    "            result_src.append(data[1])\n",
    "            result_new.append(data[2])\n",
    "            ambiguous_word.append(kwd)\n",
    "            url.append(data[3])\n",
    "            count +=1\n",
    "            print(kwd)\n",
    "print(count)\n",
    "result['news_id'] = news_id\n",
    "result['result_src'] = result_src\n",
    "result['result_new'] = result_new\n",
    "result['ambiguous_word'] = ambiguous_word\n",
    "result['url'] = url\n",
    "df = pd.DataFrame(result)\n",
    "df.to_csv('/Users/a1/Downloads/ambiguous_data_result0224.csv')"
   ]
  },
  {
   "cell_type": "code",
   "execution_count": null,
   "metadata": {},
   "outputs": [],
   "source": []
  }
 ],
 "metadata": {
  "kernelspec": {
   "display_name": "Python 3",
   "language": "python",
   "name": "python3"
  },
  "language_info": {
   "codemirror_mode": {
    "name": "ipython",
    "version": 3
   },
   "file_extension": ".py",
   "mimetype": "text/x-python",
   "name": "python",
   "nbconvert_exporter": "python",
   "pygments_lexer": "ipython3",
   "version": "3.6.12"
  }
 },
 "nbformat": 4,
 "nbformat_minor": 4
}
