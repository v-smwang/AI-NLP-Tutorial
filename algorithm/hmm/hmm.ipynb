{
 "cells": [
  {
   "cell_type": "markdown",
   "metadata": {},
   "source": [
    "# 一、马尔可夫性质\n",
    "\n",
    "&emsp;&emsp;马尔科夫性质——当前的状态只和上一时刻有关，在上一时刻之前的任何状态都和我无关。我们称其符合马尔可夫性质。\n",
    "\n",
    "&emsp;&emsp;具有马尔科夫性质的状态满足下面公式：\n",
    "\n",
    "&emsp;&emsp;$P(S_{t+1}|S_1,S_2,...,S_t) = P(S_{t+1}|S_t)$\n",
    "\n",
    "&emsp;&emsp;根据公式也就是说给定当前状态$S_t$，将来的状态与t时刻之前的状态已经没有关系。\n",
    "\n",
    "# 二、马尔可夫链\n",
    "\n",
    "&emsp;&emsp;马尔可夫链是指具有马尔可夫性质的随机过程。在过程中，在给定当前信息的情况下，过去的信息状态对于预测将来状态是无关的。——可以称之为马尔科夫无后效性。\n",
    "\n",
    "<img src=\"./imgs/markov_chain.png\" alt=\"马尔科夫链\" width=\"300\" align=\"left\"/>"
   ]
  },
  {
   "cell_type": "markdown",
   "metadata": {},
   "source": [
    "# 三、隐马尔可夫模型\n",
    "\n",
    "&emsp;&emsp;隐马尔可夫模型(Hidden Markov Model, HMM)是一种统计模型，在语音识别、行为识别、NLP、故障诊断等领域具有高效的性能。\n",
    "\n",
    "&emsp;&emsp;HMM是关于时序的概率模型，描述一个含有未知参数的马尔可夫链所生成的不可观测的状态随机序列，再由各个状态生成观测随机序列的过程。\n",
    "\n",
    "&emsp;&emsp;HMM是一个双重随机过程---具有一定状态的隐马尔可夫链和随机的观测序列。\n",
    "\n",
    "&emsp;&emsp;HMM随机生成的状态随机序列被称为状态序列；每个状态生成一个观测，由此产生的观测随机序列，被称为观测序列。\n",
    "\n",
    "&emsp;&emsp;<font color=\"red\">举个例子来理解下hmm，我们使用输入法打字，敲出的每个字符就是观测序列，而实际我们想写的话就是隐藏序列。那不同公司的输入法都是在努力提高猜测咱们要写的话的能力。</font>\n",
    "\n",
    "## 1、定义\n",
    "\n",
    "<img src=\"./imgs/hmm.PNG\" alt=\"隐马尔科夫模型\" width=\"800\" align=\"left\"/>\n"
   ]
  },
  {
   "cell_type": "markdown",
   "metadata": {},
   "source": [
    "\n",
    "&emsp;&emsp;对于HMM模型，首先我们假设Q是所有可能的隐藏状态的集合，V是所有可能的观测状态的集合，即：\n",
    "\n",
    "<span style=\"text-align:center;display:block;\">$Q={q_1,q_2,...,q_N},V={v_1,v_2,...v_M}$</span>\n",
    "\n",
    "&emsp;&emsp;其中，N是可能的隐藏状态数，M是所有的可能的观察状态数。\n",
    "\n",
    "&emsp;&emsp;对于一个长度为T的序列，I对应的状态序列, O是对应的观察序列，即：\n",
    "\n",
    "<span style=\"text-align:center;display:block;\">$I={i_1,i_2,...,i_T},O={o_1,o_2,...o_T}$</span>\n",
    "\n",
    "&emsp;&emsp;其中，任意一个隐藏状态$i_t∈Q$,任意一个观察状态$o_t∈V$\n",
    "\n",
    "&emsp;&emsp;HMM模型做了两个很重要的假设如下：\n",
    "\n",
    "1. 齐次马尔科夫链假设。即任意时刻的隐藏状态只依赖于它前一个隐藏状态，这个我们在MCMC(二)马尔科夫链中有详细讲述。当然这样假设有点极端，因为很多时候我们的某一个隐藏状态不仅仅只依赖于前一个隐藏状态，可能是前两个或者是前三个。但是这样假设的好处就是模型简单，便于求解。如果在时刻t的隐藏状态是$i_t=q_i$,在时刻t+1的隐藏状态是$i_t+1=q_j$, 则从时刻t到时刻t+1的HMM状态转移概率$a_{ij}$可以表示为：\n",
    "\n",
    "<span style=\"text-align:center;display:block;\">$a_{ij}=P(i_{t+1}=q_j|i_t=q_i)$</span>\n",
    "\n",
    "&emsp;&emsp;这样$a_{ij}$可以组成马尔科夫链的状态转移矩阵A:\n",
    "     \n",
    "<span style=\"text-align:center;display:block;\">$A=[a_{ij}]_{N×N}$</span>\n",
    "\n",
    "2. 观测独立性假设。即任意时刻的观察状态只仅仅依赖于当前时刻的隐藏状态，这也是一个为了简化模型的假设。如果在时刻t的隐藏状态是$i_t=q_j$, 而对应的观察状态为$o_t=v_k$, 则该时刻观察状态vk在隐藏状态$q_j$下生成的概率为$b_j(k)$,满足：\n",
    "    \n",
    "<span style=\"text-align:center;display:block;\">$b_j(k)=P(o_t=v_k|i_t=q_j)$</span>\n",
    "\n",
    "&emsp;&emsp;这样$b_j(k)$可以组成观测状态生成的概率矩阵B:\n",
    "    \n",
    "<span style=\"text-align:center;display:block;\">$B=[b_j(k)]_{N×M}$</span>\n",
    "　　　　除此之外，我们需要一组在时刻t=1的隐藏状态概率分布Π:\n",
    "    \n",
    "<span style=\"text-align:center;display:block;\">$Π=[π(i)]_N$</span>&emsp;&emsp;其中$π(i)=P(i_1=q_i)$\n",
    "\n",
    "&emsp;&emsp;一个HMM模型，可以由隐藏状态初始概率分布Π, 状态转移概率矩阵A和观测状态概率矩阵B决定。Π,A决定状态序列，B决定观测序列。因此，HMM模型可以由一个三元组λ表示如下：\n",
    "    \n",
    "<span style=\"text-align:center;display:block;\">$λ=(A,B,Π)$</span>\n",
    "\n",
    "## 2、hmm能解决的问题\n",
    "\n",
    "1. 评估观察序列概率。即给定模型$λ=(A,B,Π)$和观测序列$O={o_1,o_2,...o_T}$，计算在模型$λ$下观测序列O出现的概率$P(O|λ)$。这个问题的求解需要用到前向后向算法。\n",
    "\n",
    "2. 模型参数学习问题。即给定观测序列$O={o_1,o_2,...o_T}$，估计模型$λ=(A,B,Π)$的参数，使该模型下观测序列的条件概率$P(O|λ)$最大。这个问题的求解需要用到基于EM算法的鲍姆-韦尔奇算法。\n",
    "\n",
    "3. 预测问题，也称为解码问题。即给定模型$λ=(A,B,Π)$和观测序列$O={o_1,o_2,...o_T}$，求给定观测序列条件下，最可能出现的对应的状态序列，这个问题的求解需要用到基于动态规划的维特比算法。"
   ]
  },
  {
   "cell_type": "code",
   "execution_count": null,
   "metadata": {},
   "outputs": [],
   "source": []
  }
 ],
 "metadata": {
  "kernelspec": {
   "display_name": "Python [conda env:AI-NLP-Tutorial]",
   "language": "python",
   "name": "ai-nlp-tutorial"
  },
  "language_info": {
   "codemirror_mode": {
    "name": "ipython",
    "version": 3
   },
   "file_extension": ".py",
   "mimetype": "text/x-python",
   "name": "python",
   "nbconvert_exporter": "python",
   "pygments_lexer": "ipython3",
   "version": "3.7.3"
  }
 },
 "nbformat": 4,
 "nbformat_minor": 4
}
