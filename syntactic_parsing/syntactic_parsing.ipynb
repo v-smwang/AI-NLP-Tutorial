{
 "cells": [
  {
   "cell_type": "markdown",
   "metadata": {},
   "source": [
    "$\\frac{\\partial f}{\\partial l}= \\frac{\\partial f}{\\partial x}cos\\alpha + \\frac{\\partial f}{\\partial y}cos\\beta +\\frac{\\partial f}{\\partial z}cos\\gamma = [\\frac{\\partial f}{\\partial x},\\frac{\\partial f}{\\partial y},\\frac{\\partial f}{\\partial z}].[cos\\alpha,cos\\beta,cos\\gamma]=|\\vec{a}|\\vec{b}||cos\\theta$\n",
    "\n",
    "$\\frac{\\partial f}{\\partial l}= \\frac{\\partial f}{\\partial x}cos\\alpha + \\frac{\\partial f}{\\partial y}cos\\beta  =2x*\\frac{3}{5}+2y*\\frac{-4}{5}=2*1*\\frac{3}{5}+2*2*\\frac{-4}{5}=-2$"
   ]
  },
  {
   "cell_type": "markdown",
   "metadata": {},
   "source": [
    "$y=w_0x_0 + w_1x_1$"
   ]
  },
  {
   "cell_type": "markdown",
   "metadata": {},
   "source": [
    "$\\frac{\\partial y}{\\partial w_0}=x_0$\n",
    "$\\frac{\\partial y}{\\partial w_1}=y_0$\n",
    "$\\eta$\n",
    "\n",
    "$\\sigma$"
   ]
  },
  {
   "cell_type": "code",
   "execution_count": null,
   "metadata": {},
   "outputs": [],
   "source": []
  }
 ],
 "metadata": {
  "kernelspec": {
   "display_name": "Python 3",
   "language": "python",
   "name": "python3"
  },
  "language_info": {
   "codemirror_mode": {
    "name": "ipython",
    "version": 3
   },
   "file_extension": ".py",
   "mimetype": "text/x-python",
   "name": "python",
   "nbconvert_exporter": "python",
   "pygments_lexer": "ipython3",
   "version": "3.6.12"
  }
 },
 "nbformat": 4,
 "nbformat_minor": 4
}
