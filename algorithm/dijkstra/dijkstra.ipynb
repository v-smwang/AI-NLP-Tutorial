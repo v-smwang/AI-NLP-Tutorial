{
 "cells": [
  {
   "cell_type": "markdown",
   "metadata": {},
   "source": [
    "# dijkstra算法"
   ]
  },
  {
   "cell_type": "markdown",
   "metadata": {},
   "source": [
    "# 概述\n",
    "\n",
    "&emsp;&emsp;dijkstra（迪克斯特拉）算法是用来求最小路径的，它是一种贪心算法，每一步都想最优（即距离最短）。\n",
    "\n",
    "# 原理\n",
    "\n",
    "&emsp;&emsp;我们使用一个最简单的路径图来演示下求解过程，这样有助于理解。\n",
    "\n",
    "<img src=\"./imgs/path_img.PNG\" alt=\"路径图片\" width=\"300\" align=\"left\"/>"
   ]
  },
  {
   "cell_type": "markdown",
   "metadata": {},
   "source": [
    "有A、B、C、D、E 5个顶点，每个边的权重已经都标注上了，我们要求从A点到E点的最短路径\n",
    "\n",
    "算法的求解需要注意两个重要的集合\n",
    "\n",
    "所有顶点集V和已选中顶点集S。\n",
    "\n",
    "&emsp;&emsp;1、找到当前未选中点（V - S）中距离源点最近的点；\n",
    "\n",
    "&emsp;&emsp;2、更新未选中点到源点的距离。 \n",
    "\n",
    "我们用表格来说明下求解过程\n",
    "\n",
    "<img src=\"./imgs/dijkstra_table.PNG\" alt=\"dijkstra求解过程表格\" width=\"500\" align=\"left\"/>"
   ]
  },
  {
   "cell_type": "markdown",
   "metadata": {},
   "source": [
    "- 第0步，先初始化每个顶点到起点A的距离为最大（正无穷）。\n",
    "\n",
    "- 第1步，A是起点当然也就是第一个被选中的点，那离A点最近的也就是B和C，那么我们更新它俩的距离，分别为1A、3A，前面的数字代表该顶点到起点的距离，后面的A代表B和C的上一个顶点。\n",
    "\n",
    "- 第2步，我们对比第1步得出的距离来确定下一个顶点（要求没有在S集合中），明显1 < 3 < $\\infty$，所以选取顶点B，那么对应的D顶点就为6B。\n",
    "\n",
    "- 第3步，我们对比第2步得出的距离来确定下一个顶点（要求没有在S集合中），明显3 < 6 < $\\infty$，所以选取顶点C，那么对应的D顶点就由6B更新为4C，因为4 < 6。\n",
    "\n",
    "- 第4步，我们对比第3步得出的距离来确定下一个顶点（要求没有在S集合中），明显4 < $\\infty$，所以选取顶点D，那么对应的E顶点就为6D。\n",
    "\n",
    "所以最终结果为（看每一列中红色部分，红色部分为起点到该顶点的最短距离）：\n",
    "\n",
    "- A->B的最短路径为A->B,距离为1。\n",
    "\n",
    "- A->C的最短路径为A->C,距离为3。\n",
    "\n",
    "- A->D的最短路径为A->C->D,距离为4；可以看到4C是到D的最短距离，而C就是D的最短路径上的上一个顶点。\n",
    "\n",
    "- A->E的最短路径为A->C->D->E,距离为6；可以看到6D是到E的最短距离，而D就是E的最短路径上的上一个顶点；\\\n",
    "而4C又是D的最短距离，所以最短路径是A->C->D->E。\n",
    "\n",
    "这样从起点到每个顶点的最短路径就找到了。\n",
    "\n",
    "# 代码\n",
    "\n",
    "代码中使用0、1、2、3、4来代替A、B、C、D、E。\n",
    "\n",
    "这里提供两种代码，一种是从起点开始查找，一种是从终点开始查找。"
   ]
  },
  {
   "cell_type": "code",
   "execution_count": 6,
   "metadata": {},
   "outputs": [],
   "source": [
    "import networkx as nx\n",
    "\n",
    "def Dijkstra(G,start,end):\n",
    "    \"\"\"\n",
    "    从起点开始查找\n",
    "    \"\"\"\n",
    "    dist = {}; previous = {}\n",
    "    for v in G.nodes():\n",
    "        dist[v] = float('inf')  # 从源点到达该顶点v的距离，默认为正无穷\n",
    "        previous[v] = 'none'  # 到达该顶点v所经过的上一个顶点，默认为none\n",
    "    dist[start] = 0\n",
    "    u = start  # 起点\n",
    "    while u != end:\n",
    "        print('dist:',dist)\n",
    "        print('previous:', previous)\n",
    "        u = min(dist, key=dist.get)  # 获取dist里的最小value值对应的key\n",
    "        distu = dist[u]  # 距离\n",
    "        del dist[u]  # 删除该顶点\n",
    "        for u,v in G.edges(u):\n",
    "            if v in dist:\n",
    "                alt = distu + G[u][v]['weight']  # 距离\n",
    "                if alt < dist[v]:  # 如果距离小于之前的距离就更新\n",
    "                    dist[v] = alt\n",
    "                    previous[v] = u\n",
    "    path=[end,]\n",
    "    last= end\n",
    "    while last != start:\n",
    "        nxt = previous[last]\n",
    "        path += (nxt,)\n",
    "        last = nxt\n",
    "    path.reverse()\n",
    "    return path"
   ]
  },
  {
   "cell_type": "code",
   "execution_count": 7,
   "metadata": {},
   "outputs": [],
   "source": [
    "import networkx as nx\n",
    "\n",
    "def Dijkstra2(G,start,end):\n",
    "    \"\"\"\n",
    "    从终点开始查找\n",
    "    \"\"\"\n",
    "    RG = G.reverse(); dist = {}; previous = {}\n",
    "    for v in RG.nodes():\n",
    "        dist[v] = float('inf')\n",
    "        previous[v] = 'none'\n",
    "    dist[end] = 0\n",
    "    u = end\n",
    "    while u!=start:\n",
    "        u = min(dist, key=dist.get)\n",
    "        distu = dist[u]\n",
    "        del dist[u]\n",
    "        for u,v in RG.edges(u):\n",
    "            if v in dist:\n",
    "                alt = distu + RG[u][v]['weight']\n",
    "                if alt < dist[v]:\n",
    "                    dist[v] = alt\n",
    "                    previous[v] = u\n",
    "    path=(start,)\n",
    "    last= start\n",
    "    while last != end:\n",
    "        nxt = previous[last]\n",
    "        path += (nxt,)\n",
    "        last = nxt\n",
    "    return path"
   ]
  },
  {
   "cell_type": "code",
   "execution_count": 8,
   "metadata": {},
   "outputs": [
    {
     "name": "stdout",
     "output_type": "stream",
     "text": [
      "dist: {0: 0, 1: inf, 2: inf, 3: inf, 4: inf}\n",
      "previous: {0: 'none', 1: 'none', 2: 'none', 3: 'none', 4: 'none'}\n",
      "dist: {1: 1, 2: 3, 3: inf, 4: inf}\n",
      "previous: {0: 'none', 1: 0, 2: 0, 3: 'none', 4: 'none'}\n",
      "dist: {2: 3, 3: 6, 4: inf}\n",
      "previous: {0: 'none', 1: 0, 2: 0, 3: 1, 4: 'none'}\n",
      "dist: {3: 4, 4: inf}\n",
      "previous: {0: 'none', 1: 0, 2: 0, 3: 2, 4: 'none'}\n",
      "dist: {4: 6}\n",
      "previous: {0: 'none', 1: 0, 2: 0, 3: 2, 4: 3}\n",
      "[0, 2, 3, 4]\n"
     ]
    }
   ],
   "source": [
    "G=nx.DiGraph()\n",
    "\n",
    "G.add_edge(0,1,weight=1)\n",
    "G.add_edge(0,2,weight=3)\n",
    "G.add_edge(1,3,weight=5)\n",
    "G.add_edge(3,4,weight=2)\n",
    "G.add_edge(2,3,weight=1)\n",
    "\n",
    "rs=Dijkstra(G,0,4)\n",
    "print(rs)"
   ]
  },
  {
   "cell_type": "code",
   "execution_count": 10,
   "metadata": {},
   "outputs": [
    {
     "name": "stdout",
     "output_type": "stream",
     "text": [
      "(0, 1, 3, 2, 6)\n"
     ]
    }
   ],
   "source": [
    "G=nx.DiGraph()\n",
    "G.add_edge(0,1,weight=80)\n",
    "G.add_edge(1,2,weight=50)\n",
    "G.add_edge(1,3,weight=30)\n",
    "G.add_edge(3,2,weight=10)\n",
    "G.add_edge(2,4,weight=20)\n",
    "G.add_edge(2,5,weight=30)\n",
    "G.add_edge(4,5,weight=10)\n",
    "G.add_edge(5,3,weight=5)\n",
    "G.add_edge(2,6,weight=10)\n",
    "G.add_edge(4,6,weight=10)\n",
    "G.add_edge(3,6,weight=25)\n",
    "G.add_edge(5,6,weight=35)\n",
    "\n",
    "rs=Dijkstra2(G,0,6)\n",
    "print(rs)"
   ]
  }
 ],
 "metadata": {
  "kernelspec": {
   "display_name": "Python 3",
   "language": "python",
   "name": "python3"
  },
  "language_info": {
   "codemirror_mode": {
    "name": "ipython",
    "version": 3
   },
   "file_extension": ".py",
   "mimetype": "text/x-python",
   "name": "python",
   "nbconvert_exporter": "python",
   "pygments_lexer": "ipython3",
   "version": "3.6.12"
  }
 },
 "nbformat": 4,
 "nbformat_minor": 4
}
