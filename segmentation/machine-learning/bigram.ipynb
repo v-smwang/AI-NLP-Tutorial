{
 "cells": [
  {
   "cell_type": "markdown",
   "metadata": {},
   "source": [
    "# 机器学习分词方法\n",
    "\n",
    "## 一、最短路径算法【也称为二元语法模型】\n",
    "\n",
    "&emsp;&emsp;它也依赖于词典，所以不能解决未登录词的问题，但是因为引入了词与词之间的关系，所以可以解决部分歧义的问题。\n",
    "\n",
    "### 1、N最短路径分词\n",
    "&emsp;&emsp;最短路径算法是使用图论中的迪克斯特拉算法(Dijkstra算法)进行实现。解决的问题是从一个顶点到其余各顶点的最短路径算法，解决的是有权图中最短路径问题。一会再聊Dijkstra算法。\n",
    "\n",
    "&emsp;&emsp;应用到分词上，就是将一个句子切分成若干单字，并将每个字连接起来，对于存在于字典中的词（切词使用匹配所有可能词的方式）可以进行连接，然后求从第一个字到最后一个字所有路径中的最短路径。而词之间的距离却可以衡量词与词同时出现的概率，这样就能解决掉大部分的歧义问题。\n",
    "\n",
    "假设：词典为['的确','确实','实在','在理']，句子为\"他说的确实在理\"\n",
    "\n",
    "来看图理解下：\n",
    "\n",
    "<img src=\"./imgs/dijkstra.png\" alt=\"最短路径\" width=\"500\" align=\"left\"/>"
   ]
  },
  {
   "cell_type": "markdown",
   "metadata": {},
   "source": [
    "线上的1代表这个词或者字的距离，所以我们能够得出从”他“到”理“的路径有哪些，且距离都是多少\n",
    "\n",
    "0 $\\longrightarrow$ 1 $\\longrightarrow$ 2 $\\longrightarrow$ 4 $\\longrightarrow$ 6 $\\longrightarrow$ 7 距离为5\n",
    "\n",
    "0 $\\longrightarrow$ 1 $\\longrightarrow$ 2 $\\longrightarrow$ 3 $\\longrightarrow$ 5 $\\longrightarrow$ 7 距离为5\n",
    "\n",
    "0 $\\longrightarrow$ 1 $\\longrightarrow$ 2 $\\longrightarrow$ 4 $\\longrightarrow$ 5 $\\longrightarrow$ 7 距离为5\n",
    "\n",
    "可以看出它们的距离都是一样的，如果有三个字的词距离就不会都一样了。但是很明显这种距离都一样不是我很想要的，因为我们要计算出到底哪一种最合理。\n",
    "\n",
    "下面我们利用马尔科夫链计算词之间的距离。\n",
    "\n",
    "#### 马尔科夫链\n",
    "\n",
    "> &emsp;&emsp;马尔可夫链是指具有马尔可夫性质的随机过程；在过程中，在给定当前信息的情况下，过去的信息状态对于预测将来状态是无关的（可以称之为马尔科夫无后效性）。\n",
    "\n",
    "&emsp;&emsp;我们知道句子里的词之间都是有关系，换句话说就是一个词的出现是和前面的很多词有关系。因为如果我们计算一个词出现的概率由前面多个词影响那计算量太大了；另外数据稀疏问题，对于非常长的句子，它出现的概率是很小的，因此可能统计不到词频，导致$P(w_k|w_1w_2...w_{k-1}) = 0$。\n",
    "\n",
    "&emsp;&emsp;基于以上两点，我们应用马尔科夫链，它的理论就是一个事件的出现只和前一个事件有关，在这里也就是一个词的出现只由它的前一个词影响，这样就大大减少了计算量，这里称为<font color=\"red\"><b>一阶马尔科夫链</font>，也称为<font color=\"red\"><b>二元语法</font>。\n",
    "\n",
    "> unigrams：一元语法 \\\n",
    "> bigrams：二元语法 \\\n",
    "> trigrams：三元语法\n",
    "\n",
    "计算过程：\n",
    "\n",
    "&emsp;&emsp;P(的确|说) = $\\frac{C(说的确)}{C(说)}$\n",
    "\n",
    "&emsp;&emsp;解释下，P(的确|说)就是在“说”出现的情况下，“的确”出现的概率，C(说的确)就是“说的确”这个字符串出现的词频（所有的你统计的文本里的）；C(说)就是“说”的词频。\n",
    "\n",
    "&emsp;&emsp;因为概率值越大代表可能性越大，所以取个倒数作为距离即可，又因为概率可能非常小从而导致距离非常大，所以取个log。\n",
    "\n",
    "&emsp;&emsp;最终距离公式为：\n",
    "\n",
    "&emsp;&emsp;distance = $\\log(\\frac{1}{P(的确|说)})$\n"
   ]
  },
  {
   "cell_type": "markdown",
   "metadata": {},
   "source": [
    "#### dijkstra和viterbi算法\n",
    "\n",
    "&emsp;&emsp;这两个算法都是来解决DAG图（有向无环图）中最短路径问题。以我们正常的思维，找最短路径就直接计算所有路径后对比，找到最短的一条就可以了，但是这对于小数据量可以，一旦数据量大了，计算量将成几何增长。所以为了减少计算量，人们研究出了这种算法。\n",
    "\n",
    "&emsp;&emsp;这两种算法的原理和代码可以查看算法栏目。"
   ]
  },
  {
   "cell_type": "code",
   "execution_count": null,
   "metadata": {},
   "outputs": [],
   "source": []
  }
 ],
 "metadata": {
  "kernelspec": {
   "display_name": "Python 3",
   "language": "python",
   "name": "python3"
  },
  "language_info": {
   "codemirror_mode": {
    "name": "ipython",
    "version": 3
   },
   "file_extension": ".py",
   "mimetype": "text/x-python",
   "name": "python",
   "nbconvert_exporter": "python",
   "pygments_lexer": "ipython3",
   "version": "3.6.12"
  }
 },
 "nbformat": 4,
 "nbformat_minor": 2
}
