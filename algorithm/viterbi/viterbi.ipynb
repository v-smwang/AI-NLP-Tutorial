{
 "cells": [
  {
   "cell_type": "markdown",
   "metadata": {},
   "source": [
    "# viterbi算法\n",
    "\n",
    "# 概述\n",
    "\n",
    "&emsp;&emsp;viterbi（维特比）算法解决的是篱笆型的图的最短路径问题，图的节点按列组织，每列的节点数量可以不一样，每一列的节点只能和相邻列的节点相连，不能跨列相连，节点之间有着不同的距离。\n",
    "\n",
    "# 原理\n",
    "\n",
    "&emsp;&emsp;我们使用一个最简单的路径图来演示下求解过程，这样有助于理解。\n",
    "\n",
    "<img src=\"./imgs/path_img2.PNG\" alt=\"路径图片\" width=\"500\" align=\"left\"/>"
   ]
  },
  {
   "cell_type": "markdown",
   "metadata": {},
   "source": [
    "&emsp;&emsp;我们要找出顶点S到顶点E的最短路径，viterbi算法是这样做的。\n",
    "\n",
    "&emsp;&emsp;我们要找到S->E的最短路径，为了减少计算量，我们可以把能确定的东西确定下来，从而达到减少计算量的目的。\n",
    "- 从左往右来看，S到A层有S-A1和S-A2两个路径，我们不能确定走A1还是走A2能路径最短。\n",
    "- 再看S到B层，我们发现如果S-E最短，那么如果最短路径走B1，那么S-B1必定最短。那我们就对比以下路径\n",
    "\n",
    "> S-A1-B1 \\\n",
    "> S-A2-B1\n",
    "\n",
    "&emsp;&emsp;我们可以计算出S-A1-B1最短，这样后续计算时就可以不用计算经过A2到B1这条线了。\n",
    "\n",
    "- 如果最短路径走B2，那么S-B2必定最短。那我们就对比以下路径\n",
    "\n",
    "> S-A1-B2 \\\n",
    "> S-A2-B2\n",
    "\n",
    "&emsp;&emsp;我们可以计算出S-A1-B2最短。\n",
    "\n",
    "至此，原图就可以简化为\n",
    "\n",
    "<img src=\"./imgs/path_img3.PNG\" alt=\"路径图片\" width=\"500\" align=\"left\"/>"
   ]
  },
  {
   "cell_type": "markdown",
   "metadata": {},
   "source": [
    "- 再看C层，如果最短路径走C1，那么S-C1毕竟最短。那我们对比以下路径\n",
    "\n",
    "> S-A1-B1-C1 \\\n",
    "> S-A1-B2-C1 \n",
    "\n",
    "&emsp;&emsp;我们可以计算出S-A1-B1-C1最短。\n",
    "\n",
    "- 如果最短路径走C2，那么S-C2毕竟最短。那我们对比以下路径\n",
    "\n",
    "> S-A1-B1-C2 \\\n",
    "> S-A1-B2-C2 \n",
    "\n",
    "&emsp;&emsp;我们可以计算出S-A1-B1-C2最短。\n",
    "\n",
    "至此，原图就可以简化为\n",
    "\n",
    "<img src=\"./imgs/path_img4.PNG\" alt=\"路径图片\" width=\"500\" align=\"left\"/>"
   ]
  },
  {
   "cell_type": "markdown",
   "metadata": {},
   "source": [
    "最终如果想S-E最短，我们就只对比S-A1-B1-C1-E和S-A1-B1-C2-E这两个路径就可以了。\n",
    "\n",
    "通过viterbi算法的计算过程，我们可以看出viterbi算法相比于对比所有路径大大地减少了计算量。"
   ]
  },
  {
   "cell_type": "code",
   "execution_count": null,
   "metadata": {},
   "outputs": [],
   "source": []
  }
 ],
 "metadata": {
  "kernelspec": {
   "display_name": "Python 3",
   "language": "python",
   "name": "python3"
  },
  "language_info": {
   "codemirror_mode": {
    "name": "ipython",
    "version": 3
   },
   "file_extension": ".py",
   "mimetype": "text/x-python",
   "name": "python",
   "nbconvert_exporter": "python",
   "pygments_lexer": "ipython3",
   "version": "3.6.12"
  }
 },
 "nbformat": 4,
 "nbformat_minor": 4
}
