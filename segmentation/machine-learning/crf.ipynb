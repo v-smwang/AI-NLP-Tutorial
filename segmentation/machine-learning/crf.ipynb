{
 "cells": [
  {
   "cell_type": "markdown",
   "metadata": {},
   "source": [
    "谈到条件随机场工具包，最著名的就是 CRF++，有各大平台的安装方法，HanLP已经集成了。\n",
    "\n",
    "CRF++ 语料格式\n",
    "\n",
    "CRF++ 接受纯文本语料，约定为一种空格或制表符分隔的表格格式。每个序列作为一个表格，每行为序列的一个时刻 Xt,Yt，除了最后一列为输出变量 y 之外，其它列都是输入变量 x，如下所示:\n",
    "\n",
    "商 s 中 B\n",
    "品 p 中 E\n",
    "和 h 中 S\n",
    "服 f 中 B\n",
    "务 w 中 E\n",
    "\n",
    "A a 英 B\n",
    "K k 英 M\n",
    "B b 英 M\n",
    "4 s 数 M\n",
    "8 b 数 E"
   ]
  },
  {
   "cell_type": "markdown",
   "metadata": {},
   "source": [
    "训练耗时很长。\n",
    "\n",
    "标准化评测\n",
    "\n",
    "算法\tP\tR\tF1\tR(oov)\tR(IV)\n",
    "最长匹配\t89.41\t94.64\t91.95\t2.58\t97.14\n",
    "二元语法\t92.38\t96.70\t94.49\t2.58\t99.26\n",
    "一阶HHM\t78.49\t80.38\t79.42\t41.11\t81.44\n",
    "二阶HHM\t78.34\t80.01\t79.16\t42.06\t81.04\n",
    "平均感知机\t96.69\t96.45\t96.57\t70.34\t97.16\n",
    "结构化感知机\t96.67\t96.64\t96.65\t70.52\t97.35\n",
    "条件随机场\t96.86\t96.64\t96.75\t71.54\t97.33\n",
    "条件随机场的各项指标全面胜过了结构化感知机，综合 F1 更达到 96.8%， 是传统方法中最准确的分词模型。"
   ]
  },
  {
   "cell_type": "code",
   "execution_count": null,
   "metadata": {},
   "outputs": [],
   "source": []
  },
  {
   "cell_type": "markdown",
   "metadata": {},
   "source": [
    "利用c++版本的crf++已经调通，可以使用"
   ]
  }
 ],
 "metadata": {
  "kernelspec": {
   "display_name": "Python 3",
   "language": "python",
   "name": "python3"
  },
  "language_info": {
   "codemirror_mode": {
    "name": "ipython",
    "version": 3
   },
   "file_extension": ".py",
   "mimetype": "text/x-python",
   "name": "python",
   "nbconvert_exporter": "python",
   "pygments_lexer": "ipython3",
   "version": "3.6.12"
  }
 },
 "nbformat": 4,
 "nbformat_minor": 4
}
