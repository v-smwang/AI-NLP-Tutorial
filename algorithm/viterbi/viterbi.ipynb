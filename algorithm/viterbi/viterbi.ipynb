{
 "cells": [
  {
   "cell_type": "markdown",
   "metadata": {},
   "source": [
    "# viterbi算法\n",
    "\n",
    "# 一、概述\n",
    "\n",
    "&emsp;&emsp;viterbi（维特比）算法解决的是篱笆型的图的最短路径问题，图的节点按列组织，每列的节点数量可以不一样，每一列的节点只能和相邻列的节点相连，不能跨列相连，节点之间有着不同的距离。\n",
    "\n",
    "# 二、原理\n",
    "\n",
    "&emsp;&emsp;我们使用一个最简单的路径图来演示下求解过程，这样有助于理解。\n",
    "\n",
    "<img src=\"./imgs/path_img2.PNG\" alt=\"路径图片\" width=\"500\" align=\"left\"/>"
   ]
  },
  {
   "cell_type": "markdown",
   "metadata": {},
   "source": [
    "&emsp;&emsp;我们要找出顶点S到顶点E的最短路径，viterbi算法是这样做的。\n",
    "\n",
    "&emsp;&emsp;我们要找到S->E的最短路径，为了减少计算量，我们可以把能确定的东西确定下来，从而达到减少计算量的目的。\n",
    "- 从左往右来看，S到A层有S-A1和S-A2两个路径，我们不能确定走A1还是走A2能路径最短。\n",
    "- 再看S到B层，我们发现如果S-E最短，那么如果最短路径走B1，那么S-B1必定最短。那我们就对比以下路径\n",
    "\n",
    "> S-A1-B1 \\\n",
    "> S-A2-B1\n",
    "\n",
    "&emsp;&emsp;我们可以计算出S-A1-B1最短，这样后续计算时就可以不用计算经过A2到B1这条线了。\n",
    "\n",
    "- 如果最短路径走B2，那么S-B2必定最短。那我们就对比以下路径\n",
    "\n",
    "> S-A1-B2 \\\n",
    "> S-A2-B2\n",
    "\n",
    "&emsp;&emsp;我们可以计算出S-A1-B2最短。\n",
    "\n",
    "至此，原图就可以简化为\n",
    "\n",
    "<img src=\"./imgs/path_img3.PNG\" alt=\"路径图片\" width=\"500\" align=\"left\"/>"
   ]
  },
  {
   "cell_type": "markdown",
   "metadata": {},
   "source": [
    "- 再看C层，如果最短路径走C1，那么S-C1毕竟最短。那我们对比以下路径\n",
    "\n",
    "> S-A1-B1-C1 \\\n",
    "> S-A1-B2-C1 \n",
    "\n",
    "&emsp;&emsp;我们可以计算出S-A1-B1-C1最短。\n",
    "\n",
    "- 如果最短路径走C2，那么S-C2毕竟最短。那我们对比以下路径\n",
    "\n",
    "> S-A1-B1-C2 \\\n",
    "> S-A1-B2-C2 \n",
    "\n",
    "&emsp;&emsp;我们可以计算出S-A1-B1-C2最短。\n",
    "\n",
    "至此，原图就可以简化为\n",
    "\n",
    "<img src=\"./imgs/path_img4.PNG\" alt=\"路径图片\" width=\"500\" align=\"left\"/>"
   ]
  },
  {
   "cell_type": "markdown",
   "metadata": {},
   "source": [
    "最终如果想S-E最短，我们就只对比S-A1-B1-C1-E和S-A1-B1-C2-E这两个路径就可以了。\n",
    "\n",
    "通过viterbi算法的计算过程，我们可以看出viterbi算法相比于对比所有路径大大地减少了计算量。"
   ]
  },
  {
   "cell_type": "markdown",
   "metadata": {},
   "source": [
    "# 三、公式\n",
    "\n",
    "**问题**\n",
    "\n",
    "从S到E一共需要经过m个步骤（或时刻）；对于第i个时刻，一共有$n_i$个取值；$X_{ij_i}$表示第i个时刻的第$j_i$个可能值，其中，$1\\leq i\\leq d$。目标是找到一条从S到E的路径，使得所有步骤上的值加起来最小。\n",
    "\n",
    "\n",
    "**算法步骤**\n",
    "\n",
    "- 从点S出发，对于时刻i=1的$n_1$个节点，计算从S到它们之间的最短距离$d(S,X_{1j_1})$，其中，$j_1=1,2,...,n_1$。显然，S到任一$X_{1j_1}$的距离即为最短距离。\n",
    "\n",
    "\n",
    "- 由i=1到i=2时，需针对i=2的$n_2$个节点，计算S到它们的最短距离。对于某个特定的节点$X_{2j_2}$，从S到该点的路径可以经过i=1时刻所有$n_1$个节点中的任意一个，因此，对应路径的长度为$d(S,X_{2j_2})=d(S,X_{1j_1})+d(X_{1j_1},X_{2j_2})$。$j_1$有$n_1$种可能性，$j_2$有$n_2$种可能性,因此S到$X_{2j_2}$的最短路径为：\n",
    "\n",
    "$$d\\left(S, X_{2j_2}\\right)=\\min _{j_1 \\in\\left[1, n_{1}\\right]}\\left(d\\left(S, X_{1j_1}\\right)+d\\left(X_{1j_1}, X_{2j_2}\\right)\\right)$$\n"
   ]
  },
  {
   "cell_type": "markdown",
   "metadata": {},
   "source": [
    "- 设记录到当前节点的最短路径的上一个节点是$p(j_i,j_{i+1})$\n",
    "\n",
    "$$p(j_i,j_{i+1}) = arg \\min _{j_1 \\in\\left[1, n_{1}\\right]}\\left(d\\left(S, X_{1j_1}\\right)+d\\left(X_{1j_1}, X_{2j_2}\\right)\\right)$$\n",
    "\n",
    "- 对最后一个$d(S,X_{dj_d})$，求 \n",
    "\n",
    "$$min_{j_d \\in [1,n_d]} d(S,X_{dj_d})$$\n",
    "\n",
    "然后根据$p(j_i,j_{i+1})$从后往前回溯路径即可得到最短路径。\n"
   ]
  },
  {
   "cell_type": "markdown",
   "metadata": {},
   "source": [
    "# 四、复杂度分析\n",
    "\n",
    "时间状态数为m，记对于任一时刻所可能取值的个数的最大值为N，那么整个算法需要进行运算的次数不超过$m*N^2$"
   ]
  },
  {
   "cell_type": "code",
   "execution_count": null,
   "metadata": {},
   "outputs": [],
   "source": []
  }
 ],
 "metadata": {
  "kernelspec": {
   "display_name": "Python 3",
   "language": "python",
   "name": "python3"
  },
  "language_info": {
   "codemirror_mode": {
    "name": "ipython",
    "version": 3
   },
   "file_extension": ".py",
   "mimetype": "text/x-python",
   "name": "python",
   "nbconvert_exporter": "python",
   "pygments_lexer": "ipython3",
   "version": "3.6.12"
  }
 },
 "nbformat": 4,
 "nbformat_minor": 4
}
